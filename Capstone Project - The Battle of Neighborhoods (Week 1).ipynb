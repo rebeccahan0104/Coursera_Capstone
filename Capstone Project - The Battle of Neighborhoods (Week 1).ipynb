{
 "cells": [
  {
   "cell_type": "markdown",
   "metadata": {},
   "source": [
    "# Capstone Project - The Battle of Neighborhoods (Week 1)"
   ]
  },
  {
   "cell_type": "markdown",
   "metadata": {},
   "source": [
    "### Find a best neighbor to start high end Asian Cuisine in United States\n",
    "***New York VS San Francisco***"
   ]
  },
  {
   "cell_type": "markdown",
   "metadata": {},
   "source": [
    "# Introduction"
   ]
  },
  {
   "cell_type": "markdown",
   "metadata": {},
   "source": [
    "***New York City and San Francisco are both metropolitans located in different coasts. \n",
    "Neither city is clearly better, but there are some distinct differences. \n",
    "If you want to start a resturant, which city would be your first choice? \n",
    "A Famous Asian resturant chain: XYZ -  is looking for launch their first store in North America. \n",
    "The management team cannot make the decision Between New York City and San Francisco.\n",
    "XYZ are selling the high end Asian Cuisine with price range 100 - 200 USD per person. \n",
    "They may want to compare which city has the better purchasing power and then decicide the neighbors in the city we picked. \n",
    "Their business does require a large venue. Also, XYZ managements wishs to set their stores in a safe neighbor.   ***"
   ]
  },
  {
   "cell_type": "markdown",
   "metadata": {},
   "source": [
    "# Datasets "
   ]
  },
  {
   "cell_type": "markdown",
   "metadata": {},
   "source": [
    "Part1 - Compare NYC and SF - Spending and Income "
   ]
  },
  {
   "cell_type": "markdown",
   "metadata": {},
   "source": [
    "NYC —— consumer spending Data，income Data"
   ]
  },
  {
   "cell_type": "markdown",
   "metadata": {},
   "source": [
    "https://www.bls.gov/regions/new-york-new-jersey/news-release/consumerexpenditures_newyorkarea.htm"
   ]
  },
  {
   "cell_type": "markdown",
   "metadata": {},
   "source": [
    "SF --consumer spending Data，income Data "
   ]
  },
  {
   "cell_type": "markdown",
   "metadata": {},
   "source": [
    "https://www.bls.gov/regions/west/news-release/consumerexpenditures_sanfrancisco.htm"
   ]
  },
  {
   "cell_type": "markdown",
   "metadata": {},
   "source": [
    "Part2 - Find the Venue in the Neighbors\n",
    "Venue Size，Crime Rate and House Price，parking information "
   ]
  },
  {
   "cell_type": "markdown",
   "metadata": {},
   "source": [
    "NYC - https://data.ny.gov/"
   ]
  },
  {
   "cell_type": "markdown",
   "metadata": {},
   "source": [
    "SF- https://datasf.org/"
   ]
  }
 ],
 "metadata": {
  "kernelspec": {
   "display_name": "Python 3",
   "language": "python",
   "name": "python3"
  },
  "language_info": {
   "codemirror_mode": {
    "name": "ipython",
    "version": 3
   },
   "file_extension": ".py",
   "mimetype": "text/x-python",
   "name": "python",
   "nbconvert_exporter": "python",
   "pygments_lexer": "ipython3",
   "version": "3.7.6"
  }
 },
 "nbformat": 4,
 "nbformat_minor": 4
}
